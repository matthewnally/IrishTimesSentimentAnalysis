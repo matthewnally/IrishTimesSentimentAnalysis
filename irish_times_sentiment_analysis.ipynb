{
 "cells": [
  {
   "cell_type": "markdown",
   "metadata": {},
   "source": [
    "# Irish Times Headlines Sentiment Analysis  \n",
    "This notebook aims to examine Irish Times headlines over the period 1996-2018 using sentiment analysis.\n",
    "\n",
    "This analysis was done using Valence Aware Dictionary and Sentiment Reasoner (VADER). It is a rule based sentiment analysis tool for python. \n",
    "\n",
    "The dataset of Irish Times Headlines is available on kaggle at the following link.\n",
    "[The Irish Times - Waxy-Wany News](https://www.kaggle.com/therohk/ireland-historical-news).\n",
    "It contains 1.42 Million headlines."
   ]
  },
  {
   "cell_type": "code",
   "execution_count": 1,
   "metadata": {},
   "outputs": [],
   "source": [
    "from vaderSentiment.vaderSentiment import SentimentIntensityAnalyzer\n",
    "import pandas as pd\n",
    "import datetime\n",
    "import matplotlib.pyplot as plt"
   ]
  },
  {
   "cell_type": "markdown",
   "metadata": {},
   "source": [
    "### Data Import"
   ]
  },
  {
   "cell_type": "code",
   "execution_count": 2,
   "metadata": {
    "scrolled": true
   },
   "outputs": [
    {
     "data": {
      "text/html": [
       "<div>\n",
       "<style scoped>\n",
       "    .dataframe tbody tr th:only-of-type {\n",
       "        vertical-align: middle;\n",
       "    }\n",
       "\n",
       "    .dataframe tbody tr th {\n",
       "        vertical-align: top;\n",
       "    }\n",
       "\n",
       "    .dataframe thead th {\n",
       "        text-align: right;\n",
       "    }\n",
       "</style>\n",
       "<table border=\"1\" class=\"dataframe\">\n",
       "  <thead>\n",
       "    <tr style=\"text-align: right;\">\n",
       "      <th></th>\n",
       "      <th>publish_date</th>\n",
       "      <th>headline_category</th>\n",
       "      <th>headline_text</th>\n",
       "    </tr>\n",
       "  </thead>\n",
       "  <tbody>\n",
       "    <tr>\n",
       "      <td>0</td>\n",
       "      <td>19960102</td>\n",
       "      <td>news</td>\n",
       "      <td>UUP sees possibility of voting Major out</td>\n",
       "    </tr>\n",
       "    <tr>\n",
       "      <td>1</td>\n",
       "      <td>19960102</td>\n",
       "      <td>news</td>\n",
       "      <td>Pubs targeted as curbs on smoking are extended</td>\n",
       "    </tr>\n",
       "    <tr>\n",
       "      <td>2</td>\n",
       "      <td>19960102</td>\n",
       "      <td>news</td>\n",
       "      <td>Papers reveal secret links with O'Neill cabinet</td>\n",
       "    </tr>\n",
       "    <tr>\n",
       "      <td>3</td>\n",
       "      <td>19960102</td>\n",
       "      <td>news</td>\n",
       "      <td>Domestic chaos as Italy takes EU presidency</td>\n",
       "    </tr>\n",
       "    <tr>\n",
       "      <td>4</td>\n",
       "      <td>19960102</td>\n",
       "      <td>news</td>\n",
       "      <td>Learning about the star to which we owe life</td>\n",
       "    </tr>\n",
       "  </tbody>\n",
       "</table>\n",
       "</div>"
      ],
      "text/plain": [
       "   publish_date headline_category  \\\n",
       "0      19960102              news   \n",
       "1      19960102              news   \n",
       "2      19960102              news   \n",
       "3      19960102              news   \n",
       "4      19960102              news   \n",
       "\n",
       "                                     headline_text  \n",
       "0         UUP sees possibility of voting Major out  \n",
       "1   Pubs targeted as curbs on smoking are extended  \n",
       "2  Papers reveal secret links with O'Neill cabinet  \n",
       "3      Domestic chaos as Italy takes EU presidency  \n",
       "4     Learning about the star to which we owe life  "
      ]
     },
     "execution_count": 2,
     "metadata": {},
     "output_type": "execute_result"
    }
   ],
   "source": [
    "data = pd.read_csv(\"irishtimes-date-text.csv\")\n",
    "data.head()"
   ]
  },
  {
   "cell_type": "code",
   "execution_count": 3,
   "metadata": {},
   "outputs": [
    {
     "data": {
      "text/html": [
       "<div>\n",
       "<style scoped>\n",
       "    .dataframe tbody tr th:only-of-type {\n",
       "        vertical-align: middle;\n",
       "    }\n",
       "\n",
       "    .dataframe tbody tr th {\n",
       "        vertical-align: top;\n",
       "    }\n",
       "\n",
       "    .dataframe thead th {\n",
       "        text-align: right;\n",
       "    }\n",
       "</style>\n",
       "<table border=\"1\" class=\"dataframe\">\n",
       "  <thead>\n",
       "    <tr style=\"text-align: right;\">\n",
       "      <th></th>\n",
       "      <th>publish_date</th>\n",
       "      <th>headline_category</th>\n",
       "      <th>headline_text</th>\n",
       "    </tr>\n",
       "  </thead>\n",
       "  <tbody>\n",
       "    <tr>\n",
       "      <td>1425455</td>\n",
       "      <td>20181231</td>\n",
       "      <td>sport.other-sports</td>\n",
       "      <td>$9m for 139 seconds: Floyd Mayweather eases pa...</td>\n",
       "    </tr>\n",
       "    <tr>\n",
       "      <td>1425456</td>\n",
       "      <td>20181231</td>\n",
       "      <td>news.ireland</td>\n",
       "      <td>Missing pregnant teenager Zoe Hitchcock safe a...</td>\n",
       "    </tr>\n",
       "    <tr>\n",
       "      <td>1425457</td>\n",
       "      <td>20181231</td>\n",
       "      <td>news.ireland</td>\n",
       "      <td>Mourners bid farewell to 'beguiling' critic Ei...</td>\n",
       "    </tr>\n",
       "    <tr>\n",
       "      <td>1425458</td>\n",
       "      <td>20181231</td>\n",
       "      <td>news.world.us</td>\n",
       "      <td>'Los Angeles Times' making 'progress' in wake ...</td>\n",
       "    </tr>\n",
       "    <tr>\n",
       "      <td>1425459</td>\n",
       "      <td>20181231</td>\n",
       "      <td>business.economy</td>\n",
       "      <td>Benign outlook for US-China trade talks lifts ...</td>\n",
       "    </tr>\n",
       "  </tbody>\n",
       "</table>\n",
       "</div>"
      ],
      "text/plain": [
       "         publish_date   headline_category  \\\n",
       "1425455      20181231  sport.other-sports   \n",
       "1425456      20181231        news.ireland   \n",
       "1425457      20181231        news.ireland   \n",
       "1425458      20181231       news.world.us   \n",
       "1425459      20181231    business.economy   \n",
       "\n",
       "                                             headline_text  \n",
       "1425455  $9m for 139 seconds: Floyd Mayweather eases pa...  \n",
       "1425456  Missing pregnant teenager Zoe Hitchcock safe a...  \n",
       "1425457  Mourners bid farewell to 'beguiling' critic Ei...  \n",
       "1425458  'Los Angeles Times' making 'progress' in wake ...  \n",
       "1425459  Benign outlook for US-China trade talks lifts ...  "
      ]
     },
     "execution_count": 3,
     "metadata": {},
     "output_type": "execute_result"
    }
   ],
   "source": [
    "data.tail()"
   ]
  },
  {
   "cell_type": "code",
   "execution_count": 4,
   "metadata": {},
   "outputs": [
    {
     "name": "stdout",
     "output_type": "stream",
     "text": [
      "<class 'pandas.core.frame.DataFrame'>\n",
      "RangeIndex: 1425460 entries, 0 to 1425459\n",
      "Data columns (total 3 columns):\n",
      "publish_date         1425460 non-null int64\n",
      "headline_category    1425460 non-null object\n",
      "headline_text        1425460 non-null object\n",
      "dtypes: int64(1), object(2)\n",
      "memory usage: 32.6+ MB\n"
     ]
    }
   ],
   "source": [
    "data.info()"
   ]
  },
  {
   "cell_type": "markdown",
   "metadata": {},
   "source": [
    "### Data Cleaning "
   ]
  },
  {
   "cell_type": "markdown",
   "metadata": {},
   "source": [
    "Converting date from int to datetime format"
   ]
  },
  {
   "cell_type": "code",
   "execution_count": 5,
   "metadata": {},
   "outputs": [
    {
     "name": "stdout",
     "output_type": "stream",
     "text": [
      "<class 'pandas.core.frame.DataFrame'>\n",
      "RangeIndex: 1425460 entries, 0 to 1425459\n",
      "Data columns (total 3 columns):\n",
      "publish_date         1425460 non-null datetime64[ns]\n",
      "headline_category    1425460 non-null object\n",
      "headline_text        1425460 non-null object\n",
      "dtypes: datetime64[ns](1), object(2)\n",
      "memory usage: 32.6+ MB\n"
     ]
    },
    {
     "data": {
      "text/html": [
       "<div>\n",
       "<style scoped>\n",
       "    .dataframe tbody tr th:only-of-type {\n",
       "        vertical-align: middle;\n",
       "    }\n",
       "\n",
       "    .dataframe tbody tr th {\n",
       "        vertical-align: top;\n",
       "    }\n",
       "\n",
       "    .dataframe thead th {\n",
       "        text-align: right;\n",
       "    }\n",
       "</style>\n",
       "<table border=\"1\" class=\"dataframe\">\n",
       "  <thead>\n",
       "    <tr style=\"text-align: right;\">\n",
       "      <th></th>\n",
       "      <th>publish_date</th>\n",
       "      <th>headline_category</th>\n",
       "      <th>headline_text</th>\n",
       "    </tr>\n",
       "  </thead>\n",
       "  <tbody>\n",
       "    <tr>\n",
       "      <td>0</td>\n",
       "      <td>1996-01-02</td>\n",
       "      <td>news</td>\n",
       "      <td>UUP sees possibility of voting Major out</td>\n",
       "    </tr>\n",
       "    <tr>\n",
       "      <td>1</td>\n",
       "      <td>1996-01-02</td>\n",
       "      <td>news</td>\n",
       "      <td>Pubs targeted as curbs on smoking are extended</td>\n",
       "    </tr>\n",
       "    <tr>\n",
       "      <td>2</td>\n",
       "      <td>1996-01-02</td>\n",
       "      <td>news</td>\n",
       "      <td>Papers reveal secret links with O'Neill cabinet</td>\n",
       "    </tr>\n",
       "    <tr>\n",
       "      <td>3</td>\n",
       "      <td>1996-01-02</td>\n",
       "      <td>news</td>\n",
       "      <td>Domestic chaos as Italy takes EU presidency</td>\n",
       "    </tr>\n",
       "    <tr>\n",
       "      <td>4</td>\n",
       "      <td>1996-01-02</td>\n",
       "      <td>news</td>\n",
       "      <td>Learning about the star to which we owe life</td>\n",
       "    </tr>\n",
       "  </tbody>\n",
       "</table>\n",
       "</div>"
      ],
      "text/plain": [
       "  publish_date headline_category  \\\n",
       "0   1996-01-02              news   \n",
       "1   1996-01-02              news   \n",
       "2   1996-01-02              news   \n",
       "3   1996-01-02              news   \n",
       "4   1996-01-02              news   \n",
       "\n",
       "                                     headline_text  \n",
       "0         UUP sees possibility of voting Major out  \n",
       "1   Pubs targeted as curbs on smoking are extended  \n",
       "2  Papers reveal secret links with O'Neill cabinet  \n",
       "3      Domestic chaos as Italy takes EU presidency  \n",
       "4     Learning about the star to which we owe life  "
      ]
     },
     "execution_count": 5,
     "metadata": {},
     "output_type": "execute_result"
    }
   ],
   "source": [
    "data[\"publish_date\"] = pd.to_datetime(data[\"publish_date\"].astype(str), format = '%Y%m%d')\n",
    "data.info()\n",
    "data.head()"
   ]
  },
  {
   "cell_type": "markdown",
   "metadata": {},
   "source": [
    "Converting the headline categories to only contain the main category and ignore the sub categories."
   ]
  },
  {
   "cell_type": "code",
   "execution_count": 6,
   "metadata": {},
   "outputs": [
    {
     "data": {
      "text/plain": [
       "array(['news', 'culture', 'opinion', 'business', 'sport', 'lifestyle'],\n",
       "      dtype=object)"
      ]
     },
     "execution_count": 6,
     "metadata": {},
     "output_type": "execute_result"
    }
   ],
   "source": [
    "def headline_simplify(x):\n",
    "  return x.split(\".\")[0]\n",
    "\n",
    "data[\"headline_category\"] = data.headline_category.apply(headline_simplify)\n",
    "data[\"headline_category\"].unique()"
   ]
  },
  {
   "cell_type": "markdown",
   "metadata": {},
   "source": [
    "### Sentiment Analysis of \"News\" Category"
   ]
  },
  {
   "cell_type": "code",
   "execution_count": 7,
   "metadata": {},
   "outputs": [],
   "source": [
    "df_news = data[data[\"headline_category\"]==\"news\"].copy()"
   ]
  },
  {
   "cell_type": "code",
   "execution_count": 8,
   "metadata": {},
   "outputs": [
    {
     "data": {
      "text/html": [
       "<div>\n",
       "<style scoped>\n",
       "    .dataframe tbody tr th:only-of-type {\n",
       "        vertical-align: middle;\n",
       "    }\n",
       "\n",
       "    .dataframe tbody tr th {\n",
       "        vertical-align: top;\n",
       "    }\n",
       "\n",
       "    .dataframe thead th {\n",
       "        text-align: right;\n",
       "    }\n",
       "</style>\n",
       "<table border=\"1\" class=\"dataframe\">\n",
       "  <thead>\n",
       "    <tr style=\"text-align: right;\">\n",
       "      <th></th>\n",
       "      <th>publish_date</th>\n",
       "      <th>headline_category</th>\n",
       "      <th>headline_text</th>\n",
       "      <th>sentiment</th>\n",
       "    </tr>\n",
       "  </thead>\n",
       "  <tbody>\n",
       "    <tr>\n",
       "      <td>0</td>\n",
       "      <td>1996-01-02</td>\n",
       "      <td>news</td>\n",
       "      <td>UUP sees possibility of voting Major out</td>\n",
       "      <td>0.0000</td>\n",
       "    </tr>\n",
       "    <tr>\n",
       "      <td>1</td>\n",
       "      <td>1996-01-02</td>\n",
       "      <td>news</td>\n",
       "      <td>Pubs targeted as curbs on smoking are extended</td>\n",
       "      <td>0.0000</td>\n",
       "    </tr>\n",
       "    <tr>\n",
       "      <td>2</td>\n",
       "      <td>1996-01-02</td>\n",
       "      <td>news</td>\n",
       "      <td>Papers reveal secret links with O'Neill cabinet</td>\n",
       "      <td>0.0000</td>\n",
       "    </tr>\n",
       "    <tr>\n",
       "      <td>3</td>\n",
       "      <td>1996-01-02</td>\n",
       "      <td>news</td>\n",
       "      <td>Domestic chaos as Italy takes EU presidency</td>\n",
       "      <td>-0.5719</td>\n",
       "    </tr>\n",
       "    <tr>\n",
       "      <td>4</td>\n",
       "      <td>1996-01-02</td>\n",
       "      <td>news</td>\n",
       "      <td>Learning about the star to which we owe life</td>\n",
       "      <td>0.0000</td>\n",
       "    </tr>\n",
       "  </tbody>\n",
       "</table>\n",
       "</div>"
      ],
      "text/plain": [
       "  publish_date headline_category  \\\n",
       "0   1996-01-02              news   \n",
       "1   1996-01-02              news   \n",
       "2   1996-01-02              news   \n",
       "3   1996-01-02              news   \n",
       "4   1996-01-02              news   \n",
       "\n",
       "                                     headline_text  sentiment  \n",
       "0         UUP sees possibility of voting Major out     0.0000  \n",
       "1   Pubs targeted as curbs on smoking are extended     0.0000  \n",
       "2  Papers reveal secret links with O'Neill cabinet     0.0000  \n",
       "3      Domestic chaos as Italy takes EU presidency    -0.5719  \n",
       "4     Learning about the star to which we owe life     0.0000  "
      ]
     },
     "execution_count": 8,
     "metadata": {},
     "output_type": "execute_result"
    }
   ],
   "source": [
    "analyser = SentimentIntensityAnalyzer()\n",
    "def sent_analysis(sentence):\n",
    "  return analyser.polarity_scores(sentence)[\"compound\"]\n",
    "\n",
    "df_news['sentiment'] = df_news['headline_text'].apply(sent_analysis)\n",
    "df_news.head()"
   ]
  },
  {
   "cell_type": "code",
   "execution_count": 9,
   "metadata": {},
   "outputs": [
    {
     "data": {
      "text/plain": [
       "<matplotlib.axes._subplots.AxesSubplot at 0x1e80fb9e108>"
      ]
     },
     "execution_count": 9,
     "metadata": {},
     "output_type": "execute_result"
    },
    {
     "data": {
      "image/png": "[encoded data removed]",
      "text/plain": [
       "<Figure size 432x288 with 1 Axes>"
      ]
     },
     "metadata": {
      "needs_background": "light"
     },
     "output_type": "display_data"
    }
   ],
   "source": [
    "#df_news_2 = df_news[[\"publish_date\",\"sentiment\"]].copy()\n",
    "#df_news_2.head()\n",
    "df_by_day = df_news.groupby(\"publish_date\").mean().copy()\n",
    "df_by_day.head()\n",
    "df_by_month = df_by_day.resample(\"6M\").mean()\n",
    "df_by_month.head()\n",
    "fig, ax = plt.subplots()\n",
    "df_by_month[\"sentiment\"].plot(ax=ax)"
   ]
  },
  {
   "cell_type": "markdown",
   "metadata": {},
   "source": [
    "### All Categories"
   ]
  },
  {
   "cell_type": "code",
   "execution_count": 10,
   "metadata": {},
   "outputs": [
    {
     "data": {
      "text/html": [
       "<div>\n",
       "<style scoped>\n",
       "    .dataframe tbody tr th:only-of-type {\n",
       "        vertical-align: middle;\n",
       "    }\n",
       "\n",
       "    .dataframe tbody tr th {\n",
       "        vertical-align: top;\n",
       "    }\n",
       "\n",
       "    .dataframe thead th {\n",
       "        text-align: right;\n",
       "    }\n",
       "</style>\n",
       "<table border=\"1\" class=\"dataframe\">\n",
       "  <thead>\n",
       "    <tr style=\"text-align: right;\">\n",
       "      <th></th>\n",
       "      <th>publish_date</th>\n",
       "      <th>headline_category</th>\n",
       "      <th>headline_text</th>\n",
       "      <th>sentiment</th>\n",
       "    </tr>\n",
       "  </thead>\n",
       "  <tbody>\n",
       "    <tr>\n",
       "      <td>0</td>\n",
       "      <td>1996-01-02</td>\n",
       "      <td>news</td>\n",
       "      <td>UUP sees possibility of voting Major out</td>\n",
       "      <td>0.0000</td>\n",
       "    </tr>\n",
       "    <tr>\n",
       "      <td>1</td>\n",
       "      <td>1996-01-02</td>\n",
       "      <td>news</td>\n",
       "      <td>Pubs targeted as curbs on smoking are extended</td>\n",
       "      <td>0.0000</td>\n",
       "    </tr>\n",
       "    <tr>\n",
       "      <td>2</td>\n",
       "      <td>1996-01-02</td>\n",
       "      <td>news</td>\n",
       "      <td>Papers reveal secret links with O'Neill cabinet</td>\n",
       "      <td>0.0000</td>\n",
       "    </tr>\n",
       "    <tr>\n",
       "      <td>3</td>\n",
       "      <td>1996-01-02</td>\n",
       "      <td>news</td>\n",
       "      <td>Domestic chaos as Italy takes EU presidency</td>\n",
       "      <td>-0.5719</td>\n",
       "    </tr>\n",
       "    <tr>\n",
       "      <td>4</td>\n",
       "      <td>1996-01-02</td>\n",
       "      <td>news</td>\n",
       "      <td>Learning about the star to which we owe life</td>\n",
       "      <td>0.0000</td>\n",
       "    </tr>\n",
       "  </tbody>\n",
       "</table>\n",
       "</div>"
      ],
      "text/plain": [
       "  publish_date headline_category  \\\n",
       "0   1996-01-02              news   \n",
       "1   1996-01-02              news   \n",
       "2   1996-01-02              news   \n",
       "3   1996-01-02              news   \n",
       "4   1996-01-02              news   \n",
       "\n",
       "                                     headline_text  sentiment  \n",
       "0         UUP sees possibility of voting Major out     0.0000  \n",
       "1   Pubs targeted as curbs on smoking are extended     0.0000  \n",
       "2  Papers reveal secret links with O'Neill cabinet     0.0000  \n",
       "3      Domestic chaos as Italy takes EU presidency    -0.5719  \n",
       "4     Learning about the star to which we owe life     0.0000  "
      ]
     },
     "execution_count": 10,
     "metadata": {},
     "output_type": "execute_result"
    }
   ],
   "source": [
    "data['sentiment'] = data['headline_text'].apply(sent_analysis)\n",
    "data.head()"
   ]
  },
  {
   "cell_type": "code",
   "execution_count": 13,
   "metadata": {},
   "outputs": [],
   "source": [
    "data.to_csv(\"headline_sentiment.csv\")"
   ]
  },
  {
   "cell_type": "code",
   "execution_count": 30,
   "metadata": {},
   "outputs": [
    {
     "data": {
      "text/html": [
       "<div>\n",
       "<style scoped>\n",
       "    .dataframe tbody tr th:only-of-type {\n",
       "        vertical-align: middle;\n",
       "    }\n",
       "\n",
       "    .dataframe tbody tr th {\n",
       "        vertical-align: top;\n",
       "    }\n",
       "\n",
       "    .dataframe thead th {\n",
       "        text-align: right;\n",
       "    }\n",
       "</style>\n",
       "<table border=\"1\" class=\"dataframe\">\n",
       "  <thead>\n",
       "    <tr style=\"text-align: right;\">\n",
       "      <th></th>\n",
       "      <th>publish_date</th>\n",
       "      <th>headline_category</th>\n",
       "      <th>headline_text</th>\n",
       "      <th>sentiment</th>\n",
       "    </tr>\n",
       "  </thead>\n",
       "  <tbody>\n",
       "    <tr>\n",
       "      <td>0</td>\n",
       "      <td>1996-01-02</td>\n",
       "      <td>news</td>\n",
       "      <td>UUP sees possibility of voting Major out</td>\n",
       "      <td>0.0000</td>\n",
       "    </tr>\n",
       "    <tr>\n",
       "      <td>1</td>\n",
       "      <td>1996-01-02</td>\n",
       "      <td>news</td>\n",
       "      <td>Pubs targeted as curbs on smoking are extended</td>\n",
       "      <td>0.0000</td>\n",
       "    </tr>\n",
       "    <tr>\n",
       "      <td>2</td>\n",
       "      <td>1996-01-02</td>\n",
       "      <td>news</td>\n",
       "      <td>Papers reveal secret links with O'Neill cabinet</td>\n",
       "      <td>0.0000</td>\n",
       "    </tr>\n",
       "    <tr>\n",
       "      <td>3</td>\n",
       "      <td>1996-01-02</td>\n",
       "      <td>news</td>\n",
       "      <td>Domestic chaos as Italy takes EU presidency</td>\n",
       "      <td>-0.5719</td>\n",
       "    </tr>\n",
       "    <tr>\n",
       "      <td>4</td>\n",
       "      <td>1996-01-02</td>\n",
       "      <td>news</td>\n",
       "      <td>Learning about the star to which we owe life</td>\n",
       "      <td>0.0000</td>\n",
       "    </tr>\n",
       "  </tbody>\n",
       "</table>\n",
       "</div>"
      ],
      "text/plain": [
       "  publish_date headline_category  \\\n",
       "0   1996-01-02              news   \n",
       "1   1996-01-02              news   \n",
       "2   1996-01-02              news   \n",
       "3   1996-01-02              news   \n",
       "4   1996-01-02              news   \n",
       "\n",
       "                                     headline_text  sentiment  \n",
       "0         UUP sees possibility of voting Major out     0.0000  \n",
       "1   Pubs targeted as curbs on smoking are extended     0.0000  \n",
       "2  Papers reveal secret links with O'Neill cabinet     0.0000  \n",
       "3      Domestic chaos as Italy takes EU presidency    -0.5719  \n",
       "4     Learning about the star to which we owe life     0.0000  "
      ]
     },
     "execution_count": 30,
     "metadata": {},
     "output_type": "execute_result"
    }
   ],
   "source": [
    "data = pd.read_csv(\"headline_sentiment.csv\", index_col = 0)\n",
    "data[\"publish_date\"] = pd.to_datetime(data[\"publish_date\"].astype(str), format = '%Y-%m-%d')\n",
    "data.head()"
   ]
  },
  {
   "cell_type": "code",
   "execution_count": 31,
   "metadata": {},
   "outputs": [
    {
     "data": {
      "text/html": [
       "<div>\n",
       "<style scoped>\n",
       "    .dataframe tbody tr th:only-of-type {\n",
       "        vertical-align: middle;\n",
       "    }\n",
       "\n",
       "    .dataframe tbody tr th {\n",
       "        vertical-align: top;\n",
       "    }\n",
       "\n",
       "    .dataframe thead th {\n",
       "        text-align: right;\n",
       "    }\n",
       "</style>\n",
       "<table border=\"1\" class=\"dataframe\">\n",
       "  <thead>\n",
       "    <tr style=\"text-align: right;\">\n",
       "      <th></th>\n",
       "      <th>publish_date</th>\n",
       "      <th>headline_category</th>\n",
       "      <th>sentiment</th>\n",
       "    </tr>\n",
       "  </thead>\n",
       "  <tbody>\n",
       "    <tr>\n",
       "      <td>0</td>\n",
       "      <td>1996-01-02</td>\n",
       "      <td>business</td>\n",
       "      <td>0.011019</td>\n",
       "    </tr>\n",
       "    <tr>\n",
       "      <td>1</td>\n",
       "      <td>1996-01-02</td>\n",
       "      <td>culture</td>\n",
       "      <td>0.025208</td>\n",
       "    </tr>\n",
       "    <tr>\n",
       "      <td>2</td>\n",
       "      <td>1996-01-02</td>\n",
       "      <td>news</td>\n",
       "      <td>-0.130973</td>\n",
       "    </tr>\n",
       "    <tr>\n",
       "      <td>3</td>\n",
       "      <td>1996-01-02</td>\n",
       "      <td>opinion</td>\n",
       "      <td>-0.023647</td>\n",
       "    </tr>\n",
       "    <tr>\n",
       "      <td>4</td>\n",
       "      <td>1996-01-02</td>\n",
       "      <td>sport</td>\n",
       "      <td>0.085914</td>\n",
       "    </tr>\n",
       "  </tbody>\n",
       "</table>\n",
       "</div>"
      ],
      "text/plain": [
       "  publish_date headline_category  sentiment\n",
       "0   1996-01-02          business   0.011019\n",
       "1   1996-01-02           culture   0.025208\n",
       "2   1996-01-02              news  -0.130973\n",
       "3   1996-01-02           opinion  -0.023647\n",
       "4   1996-01-02             sport   0.085914"
      ]
     },
     "execution_count": 31,
     "metadata": {},
     "output_type": "execute_result"
    }
   ],
   "source": [
    "df_by_day = data.groupby([\"publish_date\", \"headline_category\"]).mean().reset_index().copy()\n",
    "df_by_day.head()"
   ]
  },
  {
   "cell_type": "code",
   "execution_count": 32,
   "metadata": {},
   "outputs": [
    {
     "data": {
      "text/html": [
       "<div>\n",
       "<style scoped>\n",
       "    .dataframe tbody tr th:only-of-type {\n",
       "        vertical-align: middle;\n",
       "    }\n",
       "\n",
       "    .dataframe tbody tr th {\n",
       "        vertical-align: top;\n",
       "    }\n",
       "\n",
       "    .dataframe thead th {\n",
       "        text-align: right;\n",
       "    }\n",
       "</style>\n",
       "<table border=\"1\" class=\"dataframe\">\n",
       "  <thead>\n",
       "    <tr style=\"text-align: right;\">\n",
       "      <th>headline_category</th>\n",
       "      <th>business</th>\n",
       "      <th>culture</th>\n",
       "      <th>lifestyle</th>\n",
       "      <th>news</th>\n",
       "      <th>opinion</th>\n",
       "      <th>sport</th>\n",
       "    </tr>\n",
       "    <tr>\n",
       "      <th>publish_date</th>\n",
       "      <th></th>\n",
       "      <th></th>\n",
       "      <th></th>\n",
       "      <th></th>\n",
       "      <th></th>\n",
       "      <th></th>\n",
       "    </tr>\n",
       "  </thead>\n",
       "  <tbody>\n",
       "    <tr>\n",
       "      <td>1996-01-31</td>\n",
       "      <td>0.052044</td>\n",
       "      <td>-0.012113</td>\n",
       "      <td>0.157601</td>\n",
       "      <td>-0.114507</td>\n",
       "      <td>-0.033051</td>\n",
       "      <td>0.053494</td>\n",
       "    </tr>\n",
       "    <tr>\n",
       "      <td>1996-07-31</td>\n",
       "      <td>0.063855</td>\n",
       "      <td>0.015752</td>\n",
       "      <td>0.013008</td>\n",
       "      <td>-0.119715</td>\n",
       "      <td>-0.010538</td>\n",
       "      <td>0.076012</td>\n",
       "    </tr>\n",
       "    <tr>\n",
       "      <td>1997-01-31</td>\n",
       "      <td>0.064618</td>\n",
       "      <td>0.040180</td>\n",
       "      <td>0.041277</td>\n",
       "      <td>-0.108653</td>\n",
       "      <td>-0.023138</td>\n",
       "      <td>0.071519</td>\n",
       "    </tr>\n",
       "    <tr>\n",
       "      <td>1997-07-31</td>\n",
       "      <td>0.065146</td>\n",
       "      <td>0.024689</td>\n",
       "      <td>0.009768</td>\n",
       "      <td>-0.095632</td>\n",
       "      <td>-0.019629</td>\n",
       "      <td>0.072046</td>\n",
       "    </tr>\n",
       "    <tr>\n",
       "      <td>1998-01-31</td>\n",
       "      <td>0.051118</td>\n",
       "      <td>0.035942</td>\n",
       "      <td>0.024196</td>\n",
       "      <td>-0.101611</td>\n",
       "      <td>-0.025843</td>\n",
       "      <td>0.063501</td>\n",
       "    </tr>\n",
       "  </tbody>\n",
       "</table>\n",
       "</div>"
      ],
      "text/plain": [
       "headline_category  business   culture  lifestyle      news   opinion     sport\n",
       "publish_date                                                                  \n",
       "1996-01-31         0.052044 -0.012113   0.157601 -0.114507 -0.033051  0.053494\n",
       "1996-07-31         0.063855  0.015752   0.013008 -0.119715 -0.010538  0.076012\n",
       "1997-01-31         0.064618  0.040180   0.041277 -0.108653 -0.023138  0.071519\n",
       "1997-07-31         0.065146  0.024689   0.009768 -0.095632 -0.019629  0.072046\n",
       "1998-01-31         0.051118  0.035942   0.024196 -0.101611 -0.025843  0.063501"
      ]
     },
     "execution_count": 32,
     "metadata": {},
     "output_type": "execute_result"
    }
   ],
   "source": [
    "df_pivot = df_by_day.pivot(index='publish_date', columns='headline_category', values='sentiment').resample(\"6M\").mean()\n",
    "df_pivot.head()"
   ]
  },
  {
   "cell_type": "code",
   "execution_count": 33,
   "metadata": {},
   "outputs": [
    {
     "data": {
      "text/plain": [
       "<matplotlib.axes._subplots.AxesSubplot at 0x1c28025fb48>"
      ]
     },
     "execution_count": 33,
     "metadata": {},
     "output_type": "execute_result"
    },
    {
     "data": {
      "image/png": "[encoded data removed]",
      "text/plain": [
       "<Figure size 432x288 with 1 Axes>"
      ]
     },
     "metadata": {
      "needs_background": "light"
     },
     "output_type": "display_data"
    }
   ],
   "source": [
    "fig, ax = plt.subplots()\n",
    "df_pivot.plot(ax=ax)"
   ]
  },
  {
   "cell_type": "code",
   "execution_count": null,
   "metadata": {},
   "outputs": [],
   "source": []
  }
 ],
 "metadata": {
  "kernelspec": {
   "display_name": "Python 3",
   "language": "python",
   "name": "python3"
  },
  "language_info": {
   "codemirror_mode": {
    "name": "ipython",
    "version": 3
   },
   "file_extension": ".py",
   "mimetype": "text/x-python",
   "name": "python",
   "nbconvert_exporter": "python",
   "pygments_lexer": "ipython3",
   "version": "3.7.4"
  }
 },
 "nbformat": 4,
 "nbformat_minor": 2
}
